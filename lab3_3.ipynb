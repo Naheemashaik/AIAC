{
  "nbformat": 4,
  "nbformat_minor": 0,
  "metadata": {
    "colab": {
      "provenance": [],
      "authorship_tag": "ABX9TyNpdlzpjp8SYluVV1mukKFN",
      "include_colab_link": true
    },
    "kernelspec": {
      "name": "python3",
      "display_name": "Python 3"
    },
    "language_info": {
      "name": "python"
    }
  },
  "cells": [
    {
      "cell_type": "markdown",
      "metadata": {
        "id": "view-in-github",
        "colab_type": "text"
      },
      "source": [
        "<a href=\"https://colab.research.google.com/github/Naheemashaik/AIAC/blob/main/lab3_3.ipynb\" target=\"_parent\"><img src=\"https://colab.research.google.com/assets/colab-badge.svg\" alt=\"Open In Colab\"/></a>"
      ]
    },
    {
      "cell_type": "markdown",
      "source": [],
      "metadata": {
        "id": "o6G40Ui6Phrn"
      }
    },
    {
      "cell_type": "markdown",
      "source": [
        "Task1:Try 3 different prompts to generate a factorial function.\n",
        "Prompt:Write a Python function to calculate the factorial of a number.\""
      ],
      "metadata": {
        "id": "bpopKzDZPjU9"
      }
    },
    {
      "cell_type": "code",
      "source": [
        "def factorial(n):\n",
        "  \"\"\"\n",
        "  Calculates the factorial of a non-negative integer.\n",
        "\n",
        "  Args:\n",
        "    n: The non-negative integer.\n",
        "\n",
        "  Returns:\n",
        "    The factorial of n.\n",
        "  \"\"\"\n",
        "  if n == 0:\n",
        "    return 1\n",
        "  else:\n",
        "    result = 1\n",
        "    for i in range(1, n + 1):\n",
        "      result *= i\n",
        "    return result\n",
        "\n",
        "# Example usage\n",
        "num = 5\n",
        "print(f\"The factorial of {num} is {factorial(num)}\")"
      ],
      "metadata": {
        "colab": {
          "base_uri": "https://localhost:8080/"
        },
        "id": "NtUm3chlPxtX",
        "outputId": "7d0dbb09-6496-4b9e-96f7-84e6c550f90c"
      },
      "execution_count": 1,
      "outputs": [
        {
          "output_type": "stream",
          "name": "stdout",
          "text": [
            "The factorial of 5 is 120\n"
          ]
        }
      ]
    },
    {
      "cell_type": "markdown",
      "source": [
        "Explanation:This code defines a function factorial(n) that calculates the factorial of a non-negative integer n. It returns 1 if n is 0, and otherwise, it multiplies all integers from 1 to n to get the result. The example code calculates and prints the factorial of 5."
      ],
      "metadata": {
        "id": "uXtS86bWQRuw"
      }
    },
    {
      "cell_type": "markdown",
      "source": [
        "Task1:Try 3 different prompts to generate a factorial function.\n",
        "Prompt:Create a Python function that calculates the factorial using a loop and handles invalid inputs.\""
      ],
      "metadata": {
        "id": "tgFjondhQjt1"
      }
    },
    {
      "cell_type": "code",
      "source": [
        "def factorial_with_validation(n):\n",
        "  \"\"\"\n",
        "  Calculates the factorial of a non-negative integer using a loop,\n",
        "  handling invalid inputs.\n",
        "\n",
        "  Args:\n",
        "    n: The number for which to calculate the factorial.\n",
        "\n",
        "  Returns:\n",
        "    The factorial of n if n is a non-negative integer,\n",
        "    otherwise returns an error message.\n",
        "  \"\"\"\n",
        "  if not isinstance(n, int) or n < 0:\n",
        "    return \"Invalid input: Please provide a non-negative integer.\"\n",
        "  elif n == 0:\n",
        "    return 1\n",
        "  else:\n",
        "    result = 1\n",
        "    for i in range(1, n + 1):\n",
        "      result *= i\n",
        "    return result\n",
        "\n",
        "# Example usage\n",
        "num1 = 5\n",
        "num2 = -2\n",
        "num3 = 3.5\n",
        "\n",
        "print(f\"The factorial of {num1} is {factorial_with_validation(num1)}\")\n",
        "print(f\"The factorial of {num2} is {factorial_with_validation(num2)}\")\n",
        "print(f\"The factorial of {num3} is {factorial_with_validation(num3)}\")"
      ],
      "metadata": {
        "colab": {
          "base_uri": "https://localhost:8080/"
        },
        "id": "LiY8wanHQxRK",
        "outputId": "ab05d847-d58a-462a-f76a-f0b5686f8200"
      },
      "execution_count": 2,
      "outputs": [
        {
          "output_type": "stream",
          "name": "stdout",
          "text": [
            "The factorial of 5 is 120\n",
            "The factorial of -2 is Invalid input: Please provide a non-negative integer.\n",
            "The factorial of 3.5 is Invalid input: Please provide a non-negative integer.\n"
          ]
        }
      ]
    },
    {
      "cell_type": "markdown",
      "source": [
        "Explanation:This code defines a function factorial_with_validation(n) that calculates the factorial for non-negative integers using a loop and returns an error message for invalid inputs like negative numbers or non-integers."
      ],
      "metadata": {
        "id": "Z-Vv49-uRqo7"
      }
    },
    {
      "cell_type": "markdown",
      "source": [
        "Task1:Try 3 different prompts to generate a factorial function.\n",
        "Prompt:Write a well-documented factorial function in Python with type hints and a docstring.\""
      ],
      "metadata": {
        "id": "pxEN2JZxRzId"
      }
    },
    {
      "cell_type": "code",
      "source": [
        "def factorial_documented(n: int) -> int:\n",
        "  \"\"\"\n",
        "  Calculates the factorial of a non-negative integer.\n",
        "\n",
        "  Args:\n",
        "    n: The non-negative integer for which to calculate the factorial.\n",
        "\n",
        "  Returns:\n",
        "    The factorial of n.\n",
        "\n",
        "  Raises:\n",
        "    ValueError: If the input is a negative integer.\n",
        "  \"\"\"\n",
        "  if not isinstance(n, int):\n",
        "    raise TypeError(\"Input must be an integer.\")\n",
        "  if n < 0:\n",
        "    raise ValueError(\"Input must be a non-negative integer.\")\n",
        "  if n == 0:\n",
        "    return 1\n",
        "  else:\n",
        "    result = 1\n",
        "    for i in range(1, n + 1):\n",
        "      result *= i\n",
        "    return result\n",
        "\n",
        "# Example usage\n",
        "try:\n",
        "  num = 5\n",
        "  print(f\"The factorial of {num} is {factorial_documented(num)}\")\n",
        "\n",
        "  num = -1\n",
        "  print(f\"The factorial of {num} is {factorial_documented(num)}\")\n",
        "except (TypeError, ValueError) as e:\n",
        "  print(e)\n",
        "\n",
        "try:\n",
        "  num = 3.5\n",
        "  print(f\"The factorial of {num} is {factorial_documented(num)}\")\n",
        "except (TypeError, ValueError) as e:\n",
        "  print(e)"
      ],
      "metadata": {
        "colab": {
          "base_uri": "https://localhost:8080/"
        },
        "id": "wYLKr0P_SBsI",
        "outputId": "114ae5ac-737c-4495-c851-5f4486157420"
      },
      "execution_count": 3,
      "outputs": [
        {
          "output_type": "stream",
          "name": "stdout",
          "text": [
            "The factorial of 5 is 120\n",
            "Input must be a non-negative integer.\n",
            "Input must be an integer.\n"
          ]
        }
      ]
    },
    {
      "cell_type": "markdown",
      "source": [
        "Explanation:This code defines a well-documented factorial function factorial_documented(n) with type hints and a docstring. It calculates the factorial for non-negative integers and raises TypeError or ValueError for invalid inputs. The example usage shows how to use the function and handle potential errors."
      ],
      "metadata": {
        "id": "ZajtrZMhSUcL"
      }
    }
  ]
}