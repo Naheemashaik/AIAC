{
  "nbformat": 4,
  "nbformat_minor": 0,
  "metadata": {
    "colab": {
      "provenance": [],
      "authorship_tag": "ABX9TyPV6hGZCC2n8jYS9nSIFR7o",
      "include_colab_link": true
    },
    "kernelspec": {
      "name": "python3",
      "display_name": "Python 3"
    },
    "language_info": {
      "name": "python"
    }
  },
  "cells": [
    {
      "cell_type": "markdown",
      "metadata": {
        "id": "view-in-github",
        "colab_type": "text"
      },
      "source": [
        "<a href=\"https://colab.research.google.com/github/Naheemashaik/AIAC/blob/main/lab3_3.ipynb\" target=\"_parent\"><img src=\"https://colab.research.google.com/assets/colab-badge.svg\" alt=\"Open In Colab\"/></a>"
      ]
    },
    {
      "cell_type": "markdown",
      "source": [],
      "metadata": {
        "id": "o6G40Ui6Phrn"
      }
    },
    {
      "cell_type": "markdown",
      "source": [
        "Task1:Try 3 different prompts to generate a factorial function.\n",
        "Prompt:Write a Python function to calculate the factorial of a number.\""
      ],
      "metadata": {
        "id": "bpopKzDZPjU9"
      }
    },
    {
      "cell_type": "code",
      "source": [
        "def factorial(n):\n",
        "  \"\"\"\n",
        "  Calculates the factorial of a non-negative integer.\n",
        "\n",
        "  Args:\n",
        "    n: The non-negative integer.\n",
        "\n",
        "  Returns:\n",
        "    The factorial of n.\n",
        "  \"\"\"\n",
        "  if n == 0:\n",
        "    return 1\n",
        "  else:\n",
        "    result = 1\n",
        "    for i in range(1, n + 1):\n",
        "      result *= i\n",
        "    return result\n",
        "\n",
        "# Example usage\n",
        "num = 5\n",
        "print(f\"The factorial of {num} is {factorial(num)}\")"
      ],
      "metadata": {
        "colab": {
          "base_uri": "https://localhost:8080/"
        },
        "id": "NtUm3chlPxtX",
        "outputId": "7d0dbb09-6496-4b9e-96f7-84e6c550f90c"
      },
      "execution_count": 1,
      "outputs": [
        {
          "output_type": "stream",
          "name": "stdout",
          "text": [
            "The factorial of 5 is 120\n"
          ]
        }
      ]
    },
    {
      "cell_type": "markdown",
      "source": [
        "Explanation:This code defines a function factorial(n) that calculates the factorial of a non-negative integer n. It returns 1 if n is 0, and otherwise, it multiplies all integers from 1 to n to get the result. The example code calculates and prints the factorial of 5."
      ],
      "metadata": {
        "id": "uXtS86bWQRuw"
      }
    },
    {
      "cell_type": "markdown",
      "source": [
        "Task1:Try 3 different prompts to generate a factorial function.\n",
        "Prompt:Create a Python function that calculates the factorial using a loop and handles invalid inputs.\""
      ],
      "metadata": {
        "id": "tgFjondhQjt1"
      }
    },
    {
      "cell_type": "code",
      "source": [
        "def factorial_with_validation(n):\n",
        "  \"\"\"\n",
        "  Calculates the factorial of a non-negative integer using a loop,\n",
        "  handling invalid inputs.\n",
        "\n",
        "  Args:\n",
        "    n: The number for which to calculate the factorial.\n",
        "\n",
        "  Returns:\n",
        "    The factorial of n if n is a non-negative integer,\n",
        "    otherwise returns an error message.\n",
        "  \"\"\"\n",
        "  if not isinstance(n, int) or n < 0:\n",
        "    return \"Invalid input: Please provide a non-negative integer.\"\n",
        "  elif n == 0:\n",
        "    return 1\n",
        "  else:\n",
        "    result = 1\n",
        "    for i in range(1, n + 1):\n",
        "      result *= i\n",
        "    return result\n",
        "\n",
        "# Example usage\n",
        "num1 = 5\n",
        "num2 = -2\n",
        "num3 = 3.5\n",
        "\n",
        "print(f\"The factorial of {num1} is {factorial_with_validation(num1)}\")\n",
        "print(f\"The factorial of {num2} is {factorial_with_validation(num2)}\")\n",
        "print(f\"The factorial of {num3} is {factorial_with_validation(num3)}\")"
      ],
      "metadata": {
        "colab": {
          "base_uri": "https://localhost:8080/"
        },
        "id": "LiY8wanHQxRK",
        "outputId": "ab05d847-d58a-462a-f76a-f0b5686f8200"
      },
      "execution_count": 2,
      "outputs": [
        {
          "output_type": "stream",
          "name": "stdout",
          "text": [
            "The factorial of 5 is 120\n",
            "The factorial of -2 is Invalid input: Please provide a non-negative integer.\n",
            "The factorial of 3.5 is Invalid input: Please provide a non-negative integer.\n"
          ]
        }
      ]
    },
    {
      "cell_type": "markdown",
      "source": [
        "Explanation:This code defines a function factorial_with_validation(n) that calculates the factorial for non-negative integers using a loop and returns an error message for invalid inputs like negative numbers or non-integers."
      ],
      "metadata": {
        "id": "Z-Vv49-uRqo7"
      }
    },
    {
      "cell_type": "markdown",
      "source": [
        "Task1:Try 3 different prompts to generate a factorial function.\n",
        "Prompt:Write a well-documented factorial function in Python with type hints and a docstring.\""
      ],
      "metadata": {
        "id": "pxEN2JZxRzId"
      }
    },
    {
      "cell_type": "code",
      "source": [
        "def factorial_documented(n: int) -> int:\n",
        "  \"\"\"\n",
        "  Calculates the factorial of a non-negative integer.\n",
        "\n",
        "  Args:\n",
        "    n: The non-negative integer for which to calculate the factorial.\n",
        "\n",
        "  Returns:\n",
        "    The factorial of n.\n",
        "\n",
        "  Raises:\n",
        "    ValueError: If the input is a negative integer.\n",
        "  \"\"\"\n",
        "  if not isinstance(n, int):\n",
        "    raise TypeError(\"Input must be an integer.\")\n",
        "  if n < 0:\n",
        "    raise ValueError(\"Input must be a non-negative integer.\")\n",
        "  if n == 0:\n",
        "    return 1\n",
        "  else:\n",
        "    result = 1\n",
        "    for i in range(1, n + 1):\n",
        "      result *= i\n",
        "    return result\n",
        "\n",
        "# Example usage\n",
        "try:\n",
        "  num = 5\n",
        "  print(f\"The factorial of {num} is {factorial_documented(num)}\")\n",
        "\n",
        "  num = -1\n",
        "  print(f\"The factorial of {num} is {factorial_documented(num)}\")\n",
        "except (TypeError, ValueError) as e:\n",
        "  print(e)\n",
        "\n",
        "try:\n",
        "  num = 3.5\n",
        "  print(f\"The factorial of {num} is {factorial_documented(num)}\")\n",
        "except (TypeError, ValueError) as e:\n",
        "  print(e)"
      ],
      "metadata": {
        "colab": {
          "base_uri": "https://localhost:8080/"
        },
        "id": "wYLKr0P_SBsI",
        "outputId": "114ae5ac-737c-4495-c851-5f4486157420"
      },
      "execution_count": 3,
      "outputs": [
        {
          "output_type": "stream",
          "name": "stdout",
          "text": [
            "The factorial of 5 is 120\n",
            "Input must be a non-negative integer.\n",
            "Input must be an integer.\n"
          ]
        }
      ]
    },
    {
      "cell_type": "markdown",
      "source": [
        "Explanation:This code defines a well-documented factorial function factorial_documented(n) with type hints and a docstring. It calculates the factorial for non-negative integers and raises TypeError or ValueError for invalid inputs. The example usage shows how to use the function and handle potential errors."
      ],
      "metadata": {
        "id": "ZajtrZMhSUcL"
      }
    },
    {
      "cell_type": "markdown",
      "source": [
        "Task2:Provide a clear example input-output prompt to generate a sorting function.\n",
        "Prompt:Write a Python function that takes a list of integers as input and returns a sorted version of the list in ascending order."
      ],
      "metadata": {
        "id": "_imvV2HGSlsN"
      }
    },
    {
      "cell_type": "code",
      "source": [
        "def sort_list_ascending(input_list):\n",
        "  \"\"\"\n",
        "  Sorts a list of integers in ascending order.\n",
        "\n",
        "  Args:\n",
        "    input_list: A list of integers.\n",
        "\n",
        "  Returns:\n",
        "    A new list containing the sorted integers in ascending order.\n",
        "  \"\"\"\n",
        "  return sorted(input_list)\n",
        "\n",
        "# Example usage\n",
        "my_list = [5, 2, 8, 1, 9, 4]\n",
        "sorted_list = sort_list_ascending(my_list)\n",
        "print(f\"Original list: {my_list}\")\n",
        "print(f\"Sorted list: {sorted_list}\")"
      ],
      "metadata": {
        "colab": {
          "base_uri": "https://localhost:8080/"
        },
        "id": "akyfsguqTcp9",
        "outputId": "cc7dfbfa-fb1a-4612-f424-21f4bc199ab4"
      },
      "execution_count": 4,
      "outputs": [
        {
          "output_type": "stream",
          "name": "stdout",
          "text": [
            "Original list: [5, 2, 8, 1, 9, 4]\n",
            "Sorted list: [1, 2, 4, 5, 8, 9]\n"
          ]
        }
      ]
    },
    {
      "cell_type": "markdown",
      "source": [
        "Explanation:This code defines a function sort_list_ascending that takes a list of integers as input and returns a new list with the integers sorted in ascending order.\n",
        "\n",
        "The function uses the built-in sorted() function in Python, which returns a new sorted list from the items in an iterable.\n",
        "The example usage demonstrates how to use the function with a sample list my_list and prints both the original and the sorted lists."
      ],
      "metadata": {
        "id": "2N0mSe3qTwJR"
      }
    },
    {
      "cell_type": "markdown",
      "source": [
        "Task3:Start with the vague prompt “Generate python code to calculate power bill” and improve it step-by-step.\n",
        "Prompt:Generate Python code to calculate power bill."
      ],
      "metadata": {
        "id": "3Dp5PC_pUJBx"
      }
    },
    {
      "cell_type": "code",
      "source": [
        "def calculate_power_bill(kwh_consumed, rate_per_kwh):\n",
        "  \"\"\"\n",
        "  Calculates a basic power bill based on consumption and rate.\n",
        "\n",
        "  Args:\n",
        "    kwh_consumed: The total kilowatt-hours consumed.\n",
        "    rate_per_kwh: The cost per kilowatt-hour.\n",
        "\n",
        "  Returns:\n",
        "    The total power bill amount.\n",
        "  \"\"\"\n",
        "  total_bill = kwh_consumed * rate_per_kwh\n",
        "  return total_bill\n",
        "\n",
        "# Example usage:\n",
        "# Assuming 150 kWh consumed and a rate of $0.12 per kWh\n",
        "kwh = 150\n",
        "rate = 0.12\n",
        "bill_amount = calculate_power_bill(kwh, rate)\n",
        "print(f\"Total power bill: ${bill_amount:.2f}\")"
      ],
      "metadata": {
        "colab": {
          "base_uri": "https://localhost:8080/"
        },
        "id": "maveikzuUxjH",
        "outputId": "d8a7f14d-34bd-4825-94f8-a89157a7c1a1"
      },
      "execution_count": 5,
      "outputs": [
        {
          "output_type": "stream",
          "name": "stdout",
          "text": [
            "Total power bill: $18.00\n"
          ]
        }
      ]
    },
    {
      "cell_type": "markdown",
      "source": [
        "Explanation:This code defines a function calculate_power_bill that calculates a basic power bill by multiplying the kilowatt-hours consumed by the rate per kilowatt-hour."
      ],
      "metadata": {
        "id": "q5Kjyu9MVJH_"
      }
    },
    {
      "cell_type": "markdown",
      "source": [
        "Task3:Start with the vague prompt “Generate python code to calculate power bill” and improve it step-by-step.\n",
        "Prompt:Write a Python program to calculate electricity bill based on units consumed. The rate is ₹5 per unit."
      ],
      "metadata": {
        "id": "mtKuDWTKVPvB"
      }
    },
    {
      "cell_type": "code",
      "source": [
        "def calculate_electricity_bill(units_consumed):\n",
        "  \"\"\"\n",
        "  Calculates the electricity bill based on units consumed at a fixed rate.\n",
        "\n",
        "  Args:\n",
        "    units_consumed: The total units of electricity consumed.\n",
        "\n",
        "  Returns:\n",
        "    The total electricity bill amount in ₹.\n",
        "  \"\"\"\n",
        "  rate_per_unit = 5  # Rate is ₹5 per unit\n",
        "  total_bill = units_consumed * rate_per_unit\n",
        "  return total_bill\n",
        "\n",
        "# Example usage:\n",
        "# Get units consumed from user input\n",
        "try:\n",
        "  units = float(input(\"Enter the number of units consumed: \"))\n",
        "  if units < 0:\n",
        "    print(\"Units consumed cannot be negative.\")\n",
        "  else:\n",
        "    bill_amount = calculate_electricity_bill(units)\n",
        "    print(f\"Total electricity bill: ₹{bill_amount:.2f}\")\n",
        "except ValueError:\n",
        "  print(\"Invalid input. Please enter a valid number for units consumed.\")"
      ],
      "metadata": {
        "colab": {
          "base_uri": "https://localhost:8080/"
        },
        "id": "k-A73vmuVcMu",
        "outputId": "223056a8-2ec3-4924-deed-e45df03cfe36"
      },
      "execution_count": 6,
      "outputs": [
        {
          "output_type": "stream",
          "name": "stdout",
          "text": [
            "Enter the number of units consumed: 5\n",
            "Total electricity bill: ₹25.00\n"
          ]
        }
      ]
    },
    {
      "cell_type": "markdown",
      "source": [
        "Explanation:This code defines a function calculate_electricity_bill that takes the number of units of electricity consumed as input.\n",
        "\n",
        "Inside the function, it sets a fixed rate_per_unit to 5 (representing ₹5 per unit).\n",
        "It then calculates the total_bill by multiplying the units_consumed by the rate_per_unit.\n",
        "The function returns the calculated total_bill.\n",
        "The example usage part of the code prompts the user to enter the number of units consumed. It includes error handling using a try...except block to catch invalid input (non-numeric values) and also checks if the entered units are negative. If the input is valid and non-negative, it calls the calculate_electricity_bill function and prints the total electricity bill formatted to two decimal places with the \"₹\" symbol.\n",
        "\n"
      ],
      "metadata": {
        "id": "4ej--kKDV7YJ"
      }
    },
    {
      "cell_type": "markdown",
      "source": [
        "Task3:Start with the vague prompt “Generate python code to calculate power bill” and iprmove it step-by-step.\n",
        "Prompt:Write a Python function to calculate power bill using these slabs:\n",
        "\n",
        "First 100 units @ ₹3/unit\n",
        "\n",
        "Next 100 units @ ₹5/unit\n",
        "\n",
        "Beyond 200 units @ ₹10/unit\""
      ],
      "metadata": {
        "id": "59S98PmaWQtH"
      }
    },
    {
      "cell_type": "code",
      "source": [
        "def calculate_tiered_power_bill(units_consumed):\n",
        "  \"\"\"\n",
        "  Calculates the power bill based on tiered pricing slabs.\n",
        "\n",
        "  Args:\n",
        "    units_consumed: The total units of electricity consumed.\n",
        "\n",
        "  Returns:\n",
        "    The total power bill amount in ₹.\n",
        "  \"\"\"\n",
        "  bill_amount = 0\n",
        "  remaining_units = units_consumed\n",
        "\n",
        "  # First 100 units @ ₹3/unit\n",
        "  if remaining_units > 0:\n",
        "    units_in_slab = min(remaining_units, 100)\n",
        "    bill_amount += units_in_slab * 3\n",
        "    remaining_units -= units_in_slab\n",
        "\n",
        "  # Next 100 units @ ₹5/unit\n",
        "  if remaining_units > 0:\n",
        "    units_in_slab = min(remaining_units, 100)\n",
        "    bill_amount += units_in_slab * 5\n",
        "    remaining_units -= units_in_slab\n",
        "\n",
        "  # Beyond 200 units @ ₹10/unit\n",
        "  if remaining_units > 0:\n",
        "    bill_amount += remaining_units * 10\n",
        "    remaining_units = 0 # Should be 0 at this point\n",
        "\n",
        "  return bill_amount\n",
        "\n",
        "# Example usage:\n",
        "try:\n",
        "  units = float(input(\"Enter the number of units consumed: \"))\n",
        "  if units < 0:\n",
        "    print(\"Units consumed cannot be negative.\")\n",
        "  else:\n",
        "    bill_amount = calculate_tiered_power_bill(units)\n",
        "    print(f\"Total power bill: ₹{bill_amount:.2f}\")\n",
        "except ValueError:\n",
        "  print(\"Invalid input. Please enter a valid number for units consumed.\")"
      ],
      "metadata": {
        "colab": {
          "base_uri": "https://localhost:8080/"
        },
        "id": "Q8pHR1P1WaQV",
        "outputId": "b25d6197-e858-49ce-b202-8487a30334d5"
      },
      "execution_count": 8,
      "outputs": [
        {
          "output_type": "stream",
          "name": "stdout",
          "text": [
            "Enter the number of units consumed: 5\n",
            "Total power bill: ₹15.00\n"
          ]
        }
      ]
    },
    {
      "cell_type": "markdown",
      "source": [
        "Explanation:this code defines a function calculate_tiered_power_bill that calculates the electricity bill based on the number of units consumed and a tiered pricing structure.\n",
        "\n",
        "It initializes bill_amount to 0 and remaining_units to the total units_consumed.\n",
        "It then checks the remaining_units against the defined slabs:\n",
        "First 100 units: If there are units remaining, it calculates the cost for up to 100 units at ₹3/unit, adds it to the bill_amount, and updates remaining_units.\n",
        "Next 100 units: If there are still units remaining, it calculates the cost for up to the next 100 units at ₹5/unit, adds it to the bill_amount, and updates remaining_units.\n",
        "Beyond 200 units: If there are still units remaining after the first two slabs, it calculates the cost for the rest of the units at ₹10/unit and adds it to the bill_amount.\n",
        "Finally, it returns the total bill_amount.\n",
        "The example usage prompts the user for input, validates it, and then calls the function to calculate and print the final bill.\n",
        "\n"
      ],
      "metadata": {
        "id": "5R3QzLQEW541"
      }
    },
    {
      "cell_type": "markdown",
      "source": [
        "Task4:Write structured comments to help AI generate two linked functions (e.g., login_user()\n",
        "and register_user()).\n",
        "Prompt:write Python code to implement register_user() and login_user() functions with a shared user_db dictionary."
      ],
      "metadata": {
        "id": "z-OYN-cZXL5Y"
      }
    },
    {
      "cell_type": "code",
      "source": [
        "# Shared dictionary to store user data (username and password)\n",
        "user_db = {}\n",
        "\n",
        "def register_user(username, password):\n",
        "  \"\"\"\n",
        "  Registers a new user with a username and password.\n",
        "\n",
        "  Args:\n",
        "    username: The desired username.\n",
        "    password: The desired password.\n",
        "\n",
        "  Returns:\n",
        "    A message indicating whether registration was successful or if the username is already taken.\n",
        "  \"\"\"\n",
        "  if username in user_db:\n",
        "    return \"Username already exists. Please choose a different username.\"\n",
        "  else:\n",
        "    user_db[username] = password\n",
        "    return \"Registration successful!\"\n",
        "\n",
        "def login_user(username, password):\n",
        "  \"\"\"\n",
        "  Logs in a user by checking the username and password against the user_db.\n",
        "\n",
        "  Args:\n",
        "    username: The username to log in with.\n",
        "    password: The password to log in with.\n",
        "\n",
        "  Returns:\n",
        "    A message indicating whether login was successful or if the username/password is incorrect.\n",
        "  \"\"\"\n",
        "  if username in user_db:\n",
        "    if user_db[username] == password:\n",
        "      return \"Login successful!\"\n",
        "    else:\n",
        "      return \"Incorrect password.\"\n",
        "  else:\n",
        "    return \"Username not found.\"\n",
        "\n",
        "# Example Usage:\n",
        "print(register_user(\"testuser\", \"password123\"))\n",
        "print(register_user(\"testuser\", \"anotherpassword\")) # Attempt to register again\n",
        "print(login_user(\"testuser\", \"password123\"))\n",
        "print(login_user(\"testuser\", \"wrongpassword\"))\n",
        "print(login_user(\"nonexistentuser\", \"anypassword\"))"
      ],
      "metadata": {
        "colab": {
          "base_uri": "https://localhost:8080/"
        },
        "id": "xXNJyOpEYQoR",
        "outputId": "6ecb745e-253e-481f-a3d5-6cf006db4d09"
      },
      "execution_count": 9,
      "outputs": [
        {
          "output_type": "stream",
          "name": "stdout",
          "text": [
            "Registration successful!\n",
            "Username already exists. Please choose a different username.\n",
            "Login successful!\n",
            "Incorrect password.\n",
            "Username not found.\n"
          ]
        }
      ]
    },
    {
      "cell_type": "markdown",
      "source": [
        "Explanation:This code implements register_user() and login_user() functions that share a user_db dictionary to store usernames and passwords. register_user() adds new users, checking for duplicates, while login_user() verifies credentials against the stored data."
      ],
      "metadata": {
        "id": "tBrzXXJPYqEi"
      }
    }
  ]
}