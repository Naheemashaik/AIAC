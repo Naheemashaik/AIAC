{
  "nbformat": 4,
  "nbformat_minor": 0,
  "metadata": {
    "colab": {
      "provenance": [],
      "authorship_tag": "ABX9TyPgJYGFd2gtudfoDlTDIdzf",
      "include_colab_link": true
    },
    "kernelspec": {
      "name": "python3",
      "display_name": "Python 3"
    },
    "language_info": {
      "name": "python"
    }
  },
  "cells": [
    {
      "cell_type": "markdown",
      "metadata": {
        "id": "view-in-github",
        "colab_type": "text"
      },
      "source": [
        "<a href=\"https://colab.research.google.com/github/Naheemashaik/AIAC/blob/main/lab3_3.ipynb\" target=\"_parent\"><img src=\"https://colab.research.google.com/assets/colab-badge.svg\" alt=\"Open In Colab\"/></a>"
      ]
    },
    {
      "cell_type": "markdown",
      "source": [],
      "metadata": {
        "id": "o6G40Ui6Phrn"
      }
    },
    {
      "cell_type": "markdown",
      "source": [
        "Task1:Try 3 different prompts to generate a factorial function.\n",
        "Prompt:Write a Python function to calculate the factorial of a number.\""
      ],
      "metadata": {
        "id": "bpopKzDZPjU9"
      }
    },
    {
      "cell_type": "code",
      "source": [
        "def factorial(n):\n",
        "  \"\"\"\n",
        "  Calculates the factorial of a non-negative integer.\n",
        "\n",
        "  Args:\n",
        "    n: The non-negative integer.\n",
        "\n",
        "  Returns:\n",
        "    The factorial of n.\n",
        "  \"\"\"\n",
        "  if n == 0:\n",
        "    return 1\n",
        "  else:\n",
        "    result = 1\n",
        "    for i in range(1, n + 1):\n",
        "      result *= i\n",
        "    return result\n",
        "\n",
        "# Example usage\n",
        "num = 5\n",
        "print(f\"The factorial of {num} is {factorial(num)}\")"
      ],
      "metadata": {
        "colab": {
          "base_uri": "https://localhost:8080/"
        },
        "id": "NtUm3chlPxtX",
        "outputId": "7d0dbb09-6496-4b9e-96f7-84e6c550f90c"
      },
      "execution_count": 1,
      "outputs": [
        {
          "output_type": "stream",
          "name": "stdout",
          "text": [
            "The factorial of 5 is 120\n"
          ]
        }
      ]
    },
    {
      "cell_type": "markdown",
      "source": [
        "Explanation:This code defines a function factorial(n) that calculates the factorial of a non-negative integer n. It returns 1 if n is 0, and otherwise, it multiplies all integers from 1 to n to get the result. The example code calculates and prints the factorial of 5."
      ],
      "metadata": {
        "id": "uXtS86bWQRuw"
      }
    },
    {
      "cell_type": "markdown",
      "source": [
        "Task1:Try 3 different prompts to generate a factorial function.\n",
        "Prompt:Create a Python function that calculates the factorial using a loop and handles invalid inputs.\""
      ],
      "metadata": {
        "id": "tgFjondhQjt1"
      }
    },
    {
      "cell_type": "code",
      "source": [
        "def factorial_with_validation(n):\n",
        "  \"\"\"\n",
        "  Calculates the factorial of a non-negative integer using a loop,\n",
        "  handling invalid inputs.\n",
        "\n",
        "  Args:\n",
        "    n: The number for which to calculate the factorial.\n",
        "\n",
        "  Returns:\n",
        "    The factorial of n if n is a non-negative integer,\n",
        "    otherwise returns an error message.\n",
        "  \"\"\"\n",
        "  if not isinstance(n, int) or n < 0:\n",
        "    return \"Invalid input: Please provide a non-negative integer.\"\n",
        "  elif n == 0:\n",
        "    return 1\n",
        "  else:\n",
        "    result = 1\n",
        "    for i in range(1, n + 1):\n",
        "      result *= i\n",
        "    return result\n",
        "\n",
        "# Example usage\n",
        "num1 = 5\n",
        "num2 = -2\n",
        "num3 = 3.5\n",
        "\n",
        "print(f\"The factorial of {num1} is {factorial_with_validation(num1)}\")\n",
        "print(f\"The factorial of {num2} is {factorial_with_validation(num2)}\")\n",
        "print(f\"The factorial of {num3} is {factorial_with_validation(num3)}\")"
      ],
      "metadata": {
        "colab": {
          "base_uri": "https://localhost:8080/"
        },
        "id": "LiY8wanHQxRK",
        "outputId": "ab05d847-d58a-462a-f76a-f0b5686f8200"
      },
      "execution_count": 2,
      "outputs": [
        {
          "output_type": "stream",
          "name": "stdout",
          "text": [
            "The factorial of 5 is 120\n",
            "The factorial of -2 is Invalid input: Please provide a non-negative integer.\n",
            "The factorial of 3.5 is Invalid input: Please provide a non-negative integer.\n"
          ]
        }
      ]
    },
    {
      "cell_type": "markdown",
      "source": [
        "Explanation:This code defines a function factorial_with_validation(n) that calculates the factorial for non-negative integers using a loop and returns an error message for invalid inputs like negative numbers or non-integers."
      ],
      "metadata": {
        "id": "Z-Vv49-uRqo7"
      }
    },
    {
      "cell_type": "markdown",
      "source": [
        "Task1:Try 3 different prompts to generate a factorial function.\n",
        "Prompt:Write a well-documented factorial function in Python with type hints and a docstring.\""
      ],
      "metadata": {
        "id": "pxEN2JZxRzId"
      }
    },
    {
      "cell_type": "code",
      "source": [
        "def factorial_documented(n: int) -> int:\n",
        "  \"\"\"\n",
        "  Calculates the factorial of a non-negative integer.\n",
        "\n",
        "  Args:\n",
        "    n: The non-negative integer for which to calculate the factorial.\n",
        "\n",
        "  Returns:\n",
        "    The factorial of n.\n",
        "\n",
        "  Raises:\n",
        "    ValueError: If the input is a negative integer.\n",
        "  \"\"\"\n",
        "  if not isinstance(n, int):\n",
        "    raise TypeError(\"Input must be an integer.\")\n",
        "  if n < 0:\n",
        "    raise ValueError(\"Input must be a non-negative integer.\")\n",
        "  if n == 0:\n",
        "    return 1\n",
        "  else:\n",
        "    result = 1\n",
        "    for i in range(1, n + 1):\n",
        "      result *= i\n",
        "    return result\n",
        "\n",
        "# Example usage\n",
        "try:\n",
        "  num = 5\n",
        "  print(f\"The factorial of {num} is {factorial_documented(num)}\")\n",
        "\n",
        "  num = -1\n",
        "  print(f\"The factorial of {num} is {factorial_documented(num)}\")\n",
        "except (TypeError, ValueError) as e:\n",
        "  print(e)\n",
        "\n",
        "try:\n",
        "  num = 3.5\n",
        "  print(f\"The factorial of {num} is {factorial_documented(num)}\")\n",
        "except (TypeError, ValueError) as e:\n",
        "  print(e)"
      ],
      "metadata": {
        "colab": {
          "base_uri": "https://localhost:8080/"
        },
        "id": "wYLKr0P_SBsI",
        "outputId": "114ae5ac-737c-4495-c851-5f4486157420"
      },
      "execution_count": 3,
      "outputs": [
        {
          "output_type": "stream",
          "name": "stdout",
          "text": [
            "The factorial of 5 is 120\n",
            "Input must be a non-negative integer.\n",
            "Input must be an integer.\n"
          ]
        }
      ]
    },
    {
      "cell_type": "markdown",
      "source": [
        "Explanation:This code defines a well-documented factorial function factorial_documented(n) with type hints and a docstring. It calculates the factorial for non-negative integers and raises TypeError or ValueError for invalid inputs. The example usage shows how to use the function and handle potential errors."
      ],
      "metadata": {
        "id": "ZajtrZMhSUcL"
      }
    },
    {
      "cell_type": "markdown",
      "source": [
        "Task2:Provide a clear example input-output prompt to generate a sorting function.\n",
        "Prompt:Write a Python function that takes a list of integers as input and returns a sorted version of the list in ascending order."
      ],
      "metadata": {
        "id": "_imvV2HGSlsN"
      }
    },
    {
      "cell_type": "code",
      "source": [
        "def sort_list_ascending(input_list):\n",
        "  \"\"\"\n",
        "  Sorts a list of integers in ascending order.\n",
        "\n",
        "  Args:\n",
        "    input_list: A list of integers.\n",
        "\n",
        "  Returns:\n",
        "    A new list containing the sorted integers in ascending order.\n",
        "  \"\"\"\n",
        "  return sorted(input_list)\n",
        "\n",
        "# Example usage\n",
        "my_list = [5, 2, 8, 1, 9, 4]\n",
        "sorted_list = sort_list_ascending(my_list)\n",
        "print(f\"Original list: {my_list}\")\n",
        "print(f\"Sorted list: {sorted_list}\")"
      ],
      "metadata": {
        "colab": {
          "base_uri": "https://localhost:8080/"
        },
        "id": "akyfsguqTcp9",
        "outputId": "cc7dfbfa-fb1a-4612-f424-21f4bc199ab4"
      },
      "execution_count": 4,
      "outputs": [
        {
          "output_type": "stream",
          "name": "stdout",
          "text": [
            "Original list: [5, 2, 8, 1, 9, 4]\n",
            "Sorted list: [1, 2, 4, 5, 8, 9]\n"
          ]
        }
      ]
    },
    {
      "cell_type": "markdown",
      "source": [
        "Explanation:This code defines a function sort_list_ascending that takes a list of integers as input and returns a new list with the integers sorted in ascending order.\n",
        "\n",
        "The function uses the built-in sorted() function in Python, which returns a new sorted list from the items in an iterable.\n",
        "The example usage demonstrates how to use the function with a sample list my_list and prints both the original and the sorted lists."
      ],
      "metadata": {
        "id": "2N0mSe3qTwJR"
      }
    },
    {
      "cell_type": "markdown",
      "source": [
        "Task3:Start with the vague prompt “Generate python code to calculate power bill” and improve it step-by-step.\n",
        "Prompt:Generate Python code to calculate power bill."
      ],
      "metadata": {
        "id": "3Dp5PC_pUJBx"
      }
    },
    {
      "cell_type": "code",
      "source": [
        "def calculate_power_bill(kwh_consumed, rate_per_kwh):\n",
        "  \"\"\"\n",
        "  Calculates a basic power bill based on consumption and rate.\n",
        "\n",
        "  Args:\n",
        "    kwh_consumed: The total kilowatt-hours consumed.\n",
        "    rate_per_kwh: The cost per kilowatt-hour.\n",
        "\n",
        "  Returns:\n",
        "    The total power bill amount.\n",
        "  \"\"\"\n",
        "  total_bill = kwh_consumed * rate_per_kwh\n",
        "  return total_bill\n",
        "\n",
        "# Example usage:\n",
        "# Assuming 150 kWh consumed and a rate of $0.12 per kWh\n",
        "kwh = 150\n",
        "rate = 0.12\n",
        "bill_amount = calculate_power_bill(kwh, rate)\n",
        "print(f\"Total power bill: ${bill_amount:.2f}\")"
      ],
      "metadata": {
        "colab": {
          "base_uri": "https://localhost:8080/"
        },
        "id": "maveikzuUxjH",
        "outputId": "d8a7f14d-34bd-4825-94f8-a89157a7c1a1"
      },
      "execution_count": 5,
      "outputs": [
        {
          "output_type": "stream",
          "name": "stdout",
          "text": [
            "Total power bill: $18.00\n"
          ]
        }
      ]
    },
    {
      "cell_type": "markdown",
      "source": [
        "Explanation:This code defines a function calculate_power_bill that calculates a basic power bill by multiplying the kilowatt-hours consumed by the rate per kilowatt-hour."
      ],
      "metadata": {
        "id": "q5Kjyu9MVJH_"
      }
    }
  ]
}